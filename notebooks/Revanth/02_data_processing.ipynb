{
 "cells": [
  {
   "cell_type": "markdown",
   "metadata": {},
   "source": [
    "# Purpose"
   ]
  },
  {
   "cell_type": "markdown",
   "metadata": {},
   "source": [
    "\n",
    "This notebook demonstrates the data pipeline from raw tables to analytical datasets. At the end of this activity, train & test data sets are created from raw data.\n",
    "\n"
   ]
  },
  {
   "cell_type": "markdown",
   "metadata": {},
   "source": [
    "## Imports"
   ]
  },
  {
   "cell_type": "code",
   "execution_count": 14,
   "metadata": {},
   "outputs": [],
   "source": [
    "from pprint import pprint\n",
    "import os\n",
    "import os.path as op\n",
    "import shutil\n",
    "\n",
    "# standard third party imports\n",
    "import numpy as np\n",
    "import pandas as pd\n",
    "from sklearn.model_selection import train_test_split\n",
    "pd.options.mode.use_inf_as_na = True\n"
   ]
  },
  {
   "cell_type": "code",
   "execution_count": 15,
   "metadata": {},
   "outputs": [
    {
     "name": "stdout",
     "output_type": "stream",
     "text": [
      "The autoreload extension is already loaded. To reload it, use:\n",
      "  %reload_ext autoreload\n"
     ]
    }
   ],
   "source": [
    "%load_ext autoreload\n",
    "%autoreload 2"
   ]
  },
  {
   "cell_type": "code",
   "execution_count": 16,
   "metadata": {},
   "outputs": [],
   "source": [
    "# standard code-template imports\n",
    "from ta_lib.core.api import (\n",
    "    create_context, get_dataframe, get_feature_names_from_column_transformer, get_package_path,\n",
    "    display_as_tabs, string_cleaning, merge_info, initialize_environment,\n",
    "    list_datasets, load_dataset, save_dataset\n",
    ")\n",
    "import ta_lib.eda.api as eda"
   ]
  },
  {
   "cell_type": "code",
   "execution_count": 17,
   "metadata": {},
   "outputs": [],
   "source": [
    "initialize_environment(debug=False, hide_warnings=True)"
   ]
  },
  {
   "cell_type": "markdown",
   "metadata": {},
   "source": [
    "## Utility functions"
   ]
  },
  {
   "cell_type": "markdown",
   "metadata": {},
   "source": [
    "# 1. Initialization"
   ]
  },
  {
   "cell_type": "code",
   "execution_count": 18,
   "metadata": {},
   "outputs": [
    {
     "name": "stdout",
     "output_type": "stream",
     "text": [
      "['/raw/housing',\n",
      " '/cleaned/housing',\n",
      " '/processed/housing',\n",
      " '/train/housing/features',\n",
      " '/train/housing/target',\n",
      " '/test/housing/features',\n",
      " '/test/housing/target',\n",
      " '/score/housing/output']\n"
     ]
    }
   ],
   "source": [
    "config_path = op.join('conf', 'config.yml')\n",
    "context = create_context(config_path)\n",
    "pprint(list_datasets(context))\n",
    "\n",
    "housing_df = load_dataset(context, 'raw/housing')"
   ]
  },
  {
   "cell_type": "markdown",
   "metadata": {},
   "source": [
    "# 2. Data cleaning and consolidation"
   ]
  },
  {
   "cell_type": "markdown",
   "metadata": {},
   "source": [
    "**<u>NOTES</u>**\n",
    "\n",
    "The focus here is to create a cleaned dataset that is appropriate for solving the DS problem at hand from the raw data.\n",
    "\n",
    "**1. Do**\n",
    "* clean dataframe column names\n",
    "* ensure dtypes are set properly\n",
    "* join with other tables etc to create features\n",
    "* transform, if appropriate, datetime like columns to generate additional features (weekday etc)\n",
    "* transform, if appropriate, string columns to generate additional features\n",
    "* discard cols that are not useful for training the model (IDs, constant cols, duplicate cols etc)\n",
    "* additional features generated from existing columns\n",
    "\n",
    "\n",
    "**2. Don't**\n",
    "* handle missing values or outliers here. mark them and leave them for processing downstream.\n"
   ]
  },
  {
   "cell_type": "markdown",
   "metadata": {},
   "source": [
    "## 2.1 Clean table "
   ]
  },
  {
   "cell_type": "markdown",
   "metadata": {},
   "source": [
    "### Housing Table\n",
    "\n",
    "From data discovery, we know the following\n",
    "\n",
    "* ensure all `invalid` entries are mapped to np.NaN\n",
    "* This will go into production code\n"
   ]
  },
  {
   "cell_type": "code",
   "execution_count": 19,
   "metadata": {},
   "outputs": [
    {
     "data": {
      "text/html": [
       "<div>\n",
       "<style scoped>\n",
       "    .dataframe tbody tr th:only-of-type {\n",
       "        vertical-align: middle;\n",
       "    }\n",
       "\n",
       "    .dataframe tbody tr th {\n",
       "        vertical-align: top;\n",
       "    }\n",
       "\n",
       "    .dataframe thead th {\n",
       "        text-align: right;\n",
       "    }\n",
       "</style>\n",
       "<table border=\"1\" class=\"dataframe\">\n",
       "  <thead>\n",
       "    <tr style=\"text-align: right;\">\n",
       "      <th></th>\n",
       "      <th>longitude</th>\n",
       "      <th>latitude</th>\n",
       "      <th>housing_median_age</th>\n",
       "      <th>total_rooms</th>\n",
       "      <th>total_bedrooms</th>\n",
       "      <th>population</th>\n",
       "      <th>households</th>\n",
       "      <th>median_income</th>\n",
       "      <th>median_house_value</th>\n",
       "      <th>ocean_proximity</th>\n",
       "    </tr>\n",
       "  </thead>\n",
       "  <tbody>\n",
       "    <tr>\n",
       "      <th>0</th>\n",
       "      <td>-122.23</td>\n",
       "      <td>37.88</td>\n",
       "      <td>41.0</td>\n",
       "      <td>880.0</td>\n",
       "      <td>129.0</td>\n",
       "      <td>322.0</td>\n",
       "      <td>126.0</td>\n",
       "      <td>8.3252</td>\n",
       "      <td>452600.0</td>\n",
       "      <td>NEAR BAY</td>\n",
       "    </tr>\n",
       "    <tr>\n",
       "      <th>1</th>\n",
       "      <td>-122.22</td>\n",
       "      <td>37.86</td>\n",
       "      <td>21.0</td>\n",
       "      <td>7099.0</td>\n",
       "      <td>1106.0</td>\n",
       "      <td>2401.0</td>\n",
       "      <td>1138.0</td>\n",
       "      <td>8.3014</td>\n",
       "      <td>358500.0</td>\n",
       "      <td>NEAR BAY</td>\n",
       "    </tr>\n",
       "    <tr>\n",
       "      <th>2</th>\n",
       "      <td>-122.24</td>\n",
       "      <td>37.85</td>\n",
       "      <td>52.0</td>\n",
       "      <td>1467.0</td>\n",
       "      <td>190.0</td>\n",
       "      <td>496.0</td>\n",
       "      <td>177.0</td>\n",
       "      <td>7.2574</td>\n",
       "      <td>352100.0</td>\n",
       "      <td>NEAR BAY</td>\n",
       "    </tr>\n",
       "    <tr>\n",
       "      <th>3</th>\n",
       "      <td>-122.25</td>\n",
       "      <td>37.85</td>\n",
       "      <td>52.0</td>\n",
       "      <td>1274.0</td>\n",
       "      <td>235.0</td>\n",
       "      <td>558.0</td>\n",
       "      <td>219.0</td>\n",
       "      <td>5.6431</td>\n",
       "      <td>341300.0</td>\n",
       "      <td>NEAR BAY</td>\n",
       "    </tr>\n",
       "    <tr>\n",
       "      <th>4</th>\n",
       "      <td>-122.25</td>\n",
       "      <td>37.85</td>\n",
       "      <td>52.0</td>\n",
       "      <td>1627.0</td>\n",
       "      <td>280.0</td>\n",
       "      <td>565.0</td>\n",
       "      <td>259.0</td>\n",
       "      <td>3.8462</td>\n",
       "      <td>342200.0</td>\n",
       "      <td>NEAR BAY</td>\n",
       "    </tr>\n",
       "  </tbody>\n",
       "</table>\n",
       "</div>"
      ],
      "text/plain": [
       "   longitude  latitude  housing_median_age  total_rooms  total_bedrooms  \\\n",
       "0    -122.23     37.88                41.0        880.0           129.0   \n",
       "1    -122.22     37.86                21.0       7099.0          1106.0   \n",
       "2    -122.24     37.85                52.0       1467.0           190.0   \n",
       "3    -122.25     37.85                52.0       1274.0           235.0   \n",
       "4    -122.25     37.85                52.0       1627.0           280.0   \n",
       "\n",
       "   population  households  median_income  median_house_value ocean_proximity  \n",
       "0       322.0       126.0         8.3252            452600.0        NEAR BAY  \n",
       "1      2401.0      1138.0         8.3014            358500.0        NEAR BAY  \n",
       "2       496.0       177.0         7.2574            352100.0        NEAR BAY  \n",
       "3       558.0       219.0         5.6431            341300.0        NEAR BAY  \n",
       "4       565.0       259.0         3.8462            342200.0        NEAR BAY  "
      ]
     },
     "execution_count": 19,
     "metadata": {},
     "output_type": "execute_result"
    }
   ],
   "source": [
    "housing_df_clean = (\n",
    "    housing_df\n",
    "    # while iterating on testing, it's good to copy the dataset(or a subset)\n",
    "    # as the following steps will mutate the input dataframe. The copy should be\n",
    "    # removed in the production code to avoid introducing perf. bottlenecks.\n",
    "    .copy()\n",
    "    \n",
    "    .passthrough()\n",
    "    \n",
    "    .replace({'': np.NaN})\n",
    "    \n",
    ")\n",
    "housing_df_clean.head()"
   ]
  },
  {
   "cell_type": "markdown",
   "metadata": {},
   "source": [
    "### NOTE\n",
    "\n",
    "It's always a good idea to save cleaned tabular data using a storage format that supports the following \n",
    "\n",
    "1. preserves the type information\n",
    "2. language agnostic storage format\n",
    "3. Supports compression\n",
    "4. Supports customizing storage to optimize different data access patterns\n",
    "\n",
    "For larger datasets, the last two points become crucial.\n",
    "\n",
    "`Parquet` is one such file format that is very popular for storing tabular data. It has some nice properties:\n",
    "- Similar to pickles & RDS datasets, but compatible with all languages\n",
    "- Preserves the datatypes\n",
    "- Compresses the data and reduces the filesize\n",
    "- Good library support in Python and other languages\n",
    "- As a columnar storage we can efficiently read fewer columns\n",
    "- It also supports chunking data by groups of columns (for instance, by dates or a particular value of a key column) that makes loading subsets of the data fast."
   ]
  },
  {
   "cell_type": "code",
   "execution_count": 20,
   "metadata": {},
   "outputs": [],
   "source": [
    "save_dataset(context, housing_df_clean, 'cleaned/housing')"
   ]
  },
  {
   "cell_type": "markdown",
   "metadata": {},
   "source": [
    "## 2.2 Create consolidated features table\n",
    "\n",
    "Here we take the cleaned dataframes and added some feature to form the consolidated table.\n",
    "\n"
   ]
  },
  {
   "cell_type": "code",
   "execution_count": 21,
   "metadata": {},
   "outputs": [],
   "source": [
    "# Relevant Features of a house.\n",
    "housing_df[\"rooms_per_household\"] = housing_df[\"total_rooms\"]/housing_df[\"households\"]\n",
    "housing_df[\"bedrooms_per_room\"] = housing_df[\"total_bedrooms\"]/housing_df[\"total_rooms\"]\n",
    "housing_df[\"population_per_household\"]=housing_df[\"population\"]/housing_df[\"households\"]"
   ]
  },
  {
   "cell_type": "markdown",
   "metadata": {},
   "source": [
    "## 2.3 Business intuition features\n",
    "\n",
    "This section can go into production code if these features are used in final model"
   ]
  },
  {
   "cell_type": "markdown",
   "metadata": {},
   "source": [
    "#### Extra Relevant Features of a house\n",
    " - features that tells more about a house like rooms per house, bedrooms per house etc."
   ]
  },
  {
   "cell_type": "code",
   "execution_count": 22,
   "metadata": {},
   "outputs": [
    {
     "data": {},
     "metadata": {},
     "output_type": "display_data"
    },
    {
     "data": {
      "application/vnd.holoviews_exec.v0+json": "",
      "text/html": [
       "<div id='1170'>\n",
       "\n",
       "\n",
       "\n",
       "\n",
       "\n",
       "  <div class=\"bk-root\" id=\"892661f3-b729-4bfb-9bfc-38b3373b5c5b\" data-root-id=\"1170\"></div>\n",
       "</div>\n",
       "<script type=\"application/javascript\">(function(root) {\n",
       "  function embed_document(root) {\n",
       "    var docs_json = {\"5ee69aae-df22-4055-ad95-f7a41a1dcc60\":{\"defs\":[{\"extends\":null,\"module\":null,\"name\":\"DataModel\",\"overrides\":[],\"properties\":[]}],\"roots\":{\"references\":[{\"attributes\":{\"columns\":[{\"id\":\"1211\"},{\"id\":\"1216\"},{\"id\":\"1221\"},{\"id\":\"1226\"},{\"id\":\"1231\"},{\"id\":\"1236\"}],\"editable\":true,\"height\":550,\"index_position\":null,\"margin\":[5,10,5,10],\"name\":\"head\",\"row_height\":40,\"source\":{\"id\":\"1206\"},\"view\":{\"id\":\"1241\"}},\"id\":\"1239\",\"type\":\"DataTable\"},{\"attributes\":{},\"id\":\"1219\",\"type\":\"StringFormatter\"},{\"attributes\":{\"editor\":{\"id\":\"1263\"},\"field\":\"20637\",\"formatter\":{\"id\":\"1262\"},\"title\":\"20637\",\"width\":0},\"id\":\"1264\",\"type\":\"TableColumn\"},{\"attributes\":{},\"id\":\"1208\",\"type\":\"StringFormatter\"},{\"attributes\":{\"data\":{\"Datatype\":[\"float64\",\"float64\",\"float64\",\"float64\",\"float64\",\"float64\",\"float64\",\"float64\",\"float64\",\"object\",\"float64\",\"float64\",\"float64\"],\"No of Unique\":[\"844\",\"862\",\"52\",\"5926\",\"1923\",\"3888\",\"1815\",\"12928\",\"3842\",\"5\",\"19392\",\"19268\",\"18841\"],\"Samples\":[\"[-117.05, -117.97, -121.84, -115.6, -122.43]\",\"[32.58, 33.92, 38.65, 33.2, 37.79]\",\"[22.0, 32.0, 29.0, 37.0, 25.0]\",\"[2101.0, 2620.0, 3167.0, 709.0, 1637.0]\",\"[399.0, 398.0, 548.0, 187.0, 394.0]\",\"[1551.0, 1296.0, 1554.0, 390.0, 649.0]\",\"[371.0, 429.0, 534.0, 142.0, 379.0]\",\"[4.1518, 5.7796, 4.3487, 2.4511, 5.0049]\",\"[136900.0, 241300.0, 200700.0, 72500.0, 460000.0]\",\"['NEAR OCEAN', '<1H OCEAN', 'INLAND', 'NEAR BAY', 'ISLAND']\",\"[5.663072776280323, 6.107226107226107, 5.930711610486892, 4.992957746478873, 4.319261213720317]\",\"[0.18990956687291766, 0.15190839694656488, 0.17303441742974424, 0.2637517630465444, 0.24068417837507636]\",\"[4.180592991913747, 3.020979020979021, 2.9101123595505616, 2.7464788732394365, 1.712401055408971]\"],\"Variable Name\":[\"longitude\",\"latitude\",\"housing_median_age\",\"total_rooms\",\"total_bedrooms\",\"population\",\"households\",\"median_income\",\"median_house_value\",\"ocean_proximity\",\"rooms_per_household\",\"bedrooms_per_room\",\"population_per_household\"],\"index\":[\"longitude\",\"latitude\",\"housing_median_age\",\"total_rooms\",\"total_bedrooms\",\"population\",\"households\",\"median_income\",\"median_house_value\",\"ocean_proximity\",\"rooms_per_household\",\"bedrooms_per_room\",\"population_per_household\"]},\"selected\":{\"id\":\"1174\"},\"selection_policy\":{\"id\":\"1282\"}},\"id\":\"1173\",\"type\":\"ColumnDataSource\"},{\"attributes\":{\"editor\":{\"id\":\"1258\"},\"field\":\"20636\",\"formatter\":{\"id\":\"1257\"},\"title\":\"20636\",\"width\":0},\"id\":\"1259\",\"type\":\"TableColumn\"},{\"attributes\":{\"indices\":[]},\"id\":\"1207\",\"type\":\"Selection\"},{\"attributes\":{},\"id\":\"1196\",\"type\":\"StringFormatter\"},{\"attributes\":{\"css_classes\":[\"markdown\"],\"margin\":[5,5,5,5],\"name\":\"Summary\",\"text\":\"&lt;p&gt;Length: 20640, Columns: 13&lt;/p&gt;\"},\"id\":\"1171\",\"type\":\"panel.models.markup.HTML\"},{\"attributes\":{},\"id\":\"1263\",\"type\":\"StringEditor\"},{\"attributes\":{\"child\":{\"id\":\"1171\"},\"name\":\"Summary\",\"title\":\"Summary\"},\"id\":\"1172\",\"type\":\"Panel\"},{\"attributes\":{\"margin\":[0,0,0,0],\"tabs\":[{\"id\":\"1172\"},{\"id\":\"1205\"},{\"id\":\"1243\"},{\"id\":\"1281\"}]},\"id\":\"1170\",\"type\":\"Tabs\"},{\"attributes\":{\"source\":{\"id\":\"1206\"}},\"id\":\"1241\",\"type\":\"CDSView\"},{\"attributes\":{\"indices\":[]},\"id\":\"1174\",\"type\":\"Selection\"},{\"attributes\":{},\"id\":\"1252\",\"type\":\"StringFormatter\"},{\"attributes\":{\"child\":{\"id\":\"1201\"},\"name\":\"Variable summary\",\"title\":\"Variable summary\"},\"id\":\"1205\",\"type\":\"Panel\"},{\"attributes\":{},\"id\":\"1177\",\"type\":\"CellEditor\"},{\"attributes\":{\"client_comm_id\":\"605f49c935ed4240b44ecf3ad4700109\",\"comm_id\":\"7fce8dfda1134f98bccbe52925ea4fc7\",\"plot_id\":\"1170\"},\"id\":\"1300\",\"type\":\"panel.models.comm_manager.CommManager\"},{\"attributes\":{\"editor\":{\"id\":\"1273\"},\"field\":\"20639\",\"formatter\":{\"id\":\"1272\"},\"title\":\"20639\",\"width\":0},\"id\":\"1274\",\"type\":\"TableColumn\"},{\"attributes\":{},\"id\":\"1214\",\"type\":\"StringFormatter\"},{\"attributes\":{},\"id\":\"1175\",\"type\":\"StringFormatter\"},{\"attributes\":{},\"id\":\"1272\",\"type\":\"StringFormatter\"},{\"attributes\":{},\"id\":\"1268\",\"type\":\"StringEditor\"},{\"attributes\":{},\"id\":\"1273\",\"type\":\"StringEditor\"},{\"attributes\":{\"child\":{\"id\":\"1277\"},\"name\":\"tail\",\"title\":\"tail\"},\"id\":\"1281\",\"type\":\"Panel\"},{\"attributes\":{},\"id\":\"1284\",\"type\":\"UnionRenderers\"},{\"attributes\":{},\"id\":\"1234\",\"type\":\"StringFormatter\"},{\"attributes\":{},\"id\":\"1257\",\"type\":\"StringFormatter\"},{\"attributes\":{\"editor\":{\"id\":\"1230\"},\"field\":\"3\",\"formatter\":{\"id\":\"1229\"},\"title\":\"3\",\"width\":0},\"id\":\"1231\",\"type\":\"TableColumn\"},{\"attributes\":{},\"id\":\"1282\",\"type\":\"UnionRenderers\"},{\"attributes\":{\"child\":{\"id\":\"1239\"},\"name\":\"head\",\"title\":\"head\"},\"id\":\"1243\",\"type\":\"Panel\"},{\"attributes\":{},\"id\":\"1262\",\"type\":\"StringFormatter\"},{\"attributes\":{},\"id\":\"1220\",\"type\":\"StringEditor\"},{\"attributes\":{},\"id\":\"1248\",\"type\":\"CellEditor\"},{\"attributes\":{},\"id\":\"1224\",\"type\":\"StringFormatter\"},{\"attributes\":{\"editor\":{\"id\":\"1268\"},\"field\":\"20638\",\"formatter\":{\"id\":\"1267\"},\"title\":\"20638\",\"width\":0},\"id\":\"1269\",\"type\":\"TableColumn\"},{\"attributes\":{},\"id\":\"1229\",\"type\":\"StringFormatter\"},{\"attributes\":{},\"id\":\"1267\",\"type\":\"StringFormatter\"},{\"attributes\":{\"editor\":{\"id\":\"1248\"},\"field\":\"index\",\"formatter\":{\"id\":\"1246\"},\"title\":\"index\",\"width\":0},\"id\":\"1249\",\"type\":\"TableColumn\"},{\"attributes\":{},\"id\":\"1230\",\"type\":\"StringEditor\"},{\"attributes\":{\"columns\":[{\"id\":\"1249\"},{\"id\":\"1254\"},{\"id\":\"1259\"},{\"id\":\"1264\"},{\"id\":\"1269\"},{\"id\":\"1274\"}],\"editable\":true,\"height\":550,\"index_position\":null,\"margin\":[5,10,5,10],\"name\":\"tail\",\"row_height\":40,\"source\":{\"id\":\"1244\"},\"view\":{\"id\":\"1279\"}},\"id\":\"1277\",\"type\":\"DataTable\"},{\"attributes\":{\"editor\":{\"id\":\"1253\"},\"field\":\"20635\",\"formatter\":{\"id\":\"1252\"},\"title\":\"20635\",\"width\":0},\"id\":\"1254\",\"type\":\"TableColumn\"},{\"attributes\":{\"editor\":{\"id\":\"1235\"},\"field\":\"4\",\"formatter\":{\"id\":\"1234\"},\"title\":\"4\",\"width\":0},\"id\":\"1236\",\"type\":\"TableColumn\"},{\"attributes\":{\"source\":{\"id\":\"1244\"}},\"id\":\"1279\",\"type\":\"CDSView\"},{\"attributes\":{\"editor\":{\"id\":\"1215\"},\"field\":\"0\",\"formatter\":{\"id\":\"1214\"},\"title\":\"0\",\"width\":0},\"id\":\"1216\",\"type\":\"TableColumn\"},{\"attributes\":{},\"id\":\"1286\",\"type\":\"UnionRenderers\"},{\"attributes\":{},\"id\":\"1191\",\"type\":\"StringFormatter\"},{\"attributes\":{},\"id\":\"1235\",\"type\":\"StringEditor\"},{\"attributes\":{},\"id\":\"1253\",\"type\":\"StringEditor\"},{\"attributes\":{},\"id\":\"1187\",\"type\":\"StringEditor\"},{\"attributes\":{},\"id\":\"1258\",\"type\":\"StringEditor\"},{\"attributes\":{\"editor\":{\"id\":\"1192\"},\"field\":\"No of Unique\",\"formatter\":{\"id\":\"1191\"},\"title\":\"No of Unique\",\"width\":0},\"id\":\"1193\",\"type\":\"TableColumn\"},{\"attributes\":{},\"id\":\"1197\",\"type\":\"StringEditor\"},{\"attributes\":{},\"id\":\"1182\",\"type\":\"StringEditor\"},{\"attributes\":{},\"id\":\"1225\",\"type\":\"StringEditor\"},{\"attributes\":{},\"id\":\"1246\",\"type\":\"StringFormatter\"},{\"attributes\":{},\"id\":\"1215\",\"type\":\"StringEditor\"},{\"attributes\":{\"editor\":{\"id\":\"1182\"},\"field\":\"Variable Name\",\"formatter\":{\"id\":\"1181\"},\"title\":\"Variable Name\",\"width\":0},\"id\":\"1183\",\"type\":\"TableColumn\"},{\"attributes\":{\"editor\":{\"id\":\"1210\"},\"field\":\"index\",\"formatter\":{\"id\":\"1208\"},\"title\":\"index\",\"width\":0},\"id\":\"1211\",\"type\":\"TableColumn\"},{\"attributes\":{\"data\":{\"0\":[\"-122.23\",\"37.88\",\"41.0\",\"880.0\",\"129.0\",\"322.0\",\"126.0\",\"8.3252\",\"452600.0\",\"NEAR BAY\",\"6.984126984126984\",\"0.14659090909090908\",\"2.5555555555555554\"],\"1\":[\"-122.22\",\"37.86\",\"21.0\",\"7099.0\",\"1106.0\",\"2401.0\",\"1138.0\",\"8.3014\",\"358500.0\",\"NEAR BAY\",\"6.238137082601054\",\"0.15579659106916466\",\"2.109841827768014\"],\"2\":[\"-122.24\",\"37.85\",\"52.0\",\"1467.0\",\"190.0\",\"496.0\",\"177.0\",\"7.2574\",\"352100.0\",\"NEAR BAY\",\"8.288135593220339\",\"0.12951601908657123\",\"2.8022598870056497\"],\"3\":[\"-122.25\",\"37.85\",\"52.0\",\"1274.0\",\"235.0\",\"558.0\",\"219.0\",\"5.6431\",\"341300.0\",\"NEAR BAY\",\"5.8173515981735155\",\"0.18445839874411302\",\"2.547945205479452\"],\"4\":[\"-122.25\",\"37.85\",\"52.0\",\"1627.0\",\"280.0\",\"565.0\",\"259.0\",\"3.8462\",\"342200.0\",\"NEAR BAY\",\"6.281853281853282\",\"0.1720958819913952\",\"2.1814671814671813\"],\"index\":[\"longitude\",\"latitude\",\"housing_median_age\",\"total_rooms\",\"total_bedrooms\",\"population\",\"households\",\"median_income\",\"median_house_value\",\"ocean_proximity\",\"rooms_per_household\",\"bedrooms_per_room\",\"population_per_household\"]},\"selected\":{\"id\":\"1207\"},\"selection_policy\":{\"id\":\"1284\"}},\"id\":\"1206\",\"type\":\"ColumnDataSource\"},{\"attributes\":{\"data\":{\"20635\":[\"-121.09\",\"39.48\",\"25.0\",\"1665.0\",\"374.0\",\"845.0\",\"330.0\",\"1.5603\",\"78100.0\",\"INLAND\",\"5.045454545454546\",\"0.22462462462462462\",\"2.5606060606060606\"],\"20636\":[\"-121.21\",\"39.49\",\"18.0\",\"697.0\",\"150.0\",\"356.0\",\"114.0\",\"2.5568\",\"77100.0\",\"INLAND\",\"6.114035087719298\",\"0.2152080344332855\",\"3.1228070175438596\"],\"20637\":[\"-121.22\",\"39.43\",\"17.0\",\"2254.0\",\"485.0\",\"1007.0\",\"433.0\",\"1.7\",\"92300.0\",\"INLAND\",\"5.20554272517321\",\"0.21517302573203195\",\"2.325635103926097\"],\"20638\":[\"-121.32\",\"39.43\",\"18.0\",\"1860.0\",\"409.0\",\"741.0\",\"349.0\",\"1.8672\",\"84700.0\",\"INLAND\",\"5.329512893982808\",\"0.21989247311827956\",\"2.1232091690544412\"],\"20639\":[\"-121.24\",\"39.37\",\"16.0\",\"2785.0\",\"616.0\",\"1387.0\",\"530.0\",\"2.3886\",\"89400.0\",\"INLAND\",\"5.254716981132075\",\"0.22118491921005387\",\"2.616981132075472\"],\"index\":[\"longitude\",\"latitude\",\"housing_median_age\",\"total_rooms\",\"total_bedrooms\",\"population\",\"households\",\"median_income\",\"median_house_value\",\"ocean_proximity\",\"rooms_per_household\",\"bedrooms_per_room\",\"population_per_household\"]},\"selected\":{\"id\":\"1245\"},\"selection_policy\":{\"id\":\"1286\"}},\"id\":\"1244\",\"type\":\"ColumnDataSource\"},{\"attributes\":{\"columns\":[{\"id\":\"1178\"},{\"id\":\"1183\"},{\"id\":\"1188\"},{\"id\":\"1193\"},{\"id\":\"1198\"}],\"editable\":true,\"height\":550,\"index_position\":null,\"margin\":[5,10,5,10],\"name\":\"Variable summary\",\"row_height\":40,\"source\":{\"id\":\"1173\"},\"view\":{\"id\":\"1203\"}},\"id\":\"1201\",\"type\":\"DataTable\"},{\"attributes\":{},\"id\":\"1186\",\"type\":\"StringFormatter\"},{\"attributes\":{},\"id\":\"1192\",\"type\":\"StringEditor\"},{\"attributes\":{},\"id\":\"1210\",\"type\":\"CellEditor\"},{\"attributes\":{\"editor\":{\"id\":\"1225\"},\"field\":\"2\",\"formatter\":{\"id\":\"1224\"},\"title\":\"2\",\"width\":0},\"id\":\"1226\",\"type\":\"TableColumn\"},{\"attributes\":{\"editor\":{\"id\":\"1177\"},\"field\":\"index\",\"formatter\":{\"id\":\"1175\"},\"title\":\"index\",\"width\":0},\"id\":\"1178\",\"type\":\"TableColumn\"},{\"attributes\":{\"source\":{\"id\":\"1173\"}},\"id\":\"1203\",\"type\":\"CDSView\"},{\"attributes\":{\"editor\":{\"id\":\"1220\"},\"field\":\"1\",\"formatter\":{\"id\":\"1219\"},\"title\":\"1\",\"width\":0},\"id\":\"1221\",\"type\":\"TableColumn\"},{\"attributes\":{},\"id\":\"1181\",\"type\":\"StringFormatter\"},{\"attributes\":{\"editor\":{\"id\":\"1197\"},\"field\":\"Samples\",\"formatter\":{\"id\":\"1196\"},\"title\":\"Samples\",\"width\":0},\"id\":\"1198\",\"type\":\"TableColumn\"},{\"attributes\":{\"editor\":{\"id\":\"1187\"},\"field\":\"Datatype\",\"formatter\":{\"id\":\"1186\"},\"title\":\"Datatype\",\"width\":0},\"id\":\"1188\",\"type\":\"TableColumn\"},{\"attributes\":{\"indices\":[]},\"id\":\"1245\",\"type\":\"Selection\"}],\"root_ids\":[\"1170\",\"1300\"]},\"title\":\"Bokeh Application\",\"version\":\"2.3.0\"}};\n",
       "    var render_items = [{\"docid\":\"5ee69aae-df22-4055-ad95-f7a41a1dcc60\",\"root_ids\":[\"1170\"],\"roots\":{\"1170\":\"892661f3-b729-4bfb-9bfc-38b3373b5c5b\"}}];\n",
       "    root.Bokeh.embed.embed_items_notebook(docs_json, render_items);\n",
       "  }\n",
       "  if (root.Bokeh !== undefined && root.Bokeh.Panel !== undefined) {\n",
       "    embed_document(root);\n",
       "  } else {\n",
       "    var attempts = 0;\n",
       "    var timer = setInterval(function(root) {\n",
       "      if (root.Bokeh !== undefined && root.Bokeh.Panel !== undefined) {\n",
       "        clearInterval(timer);\n",
       "        embed_document(root);\n",
       "      } else if (document.readyState == \"complete\") {\n",
       "        attempts++;\n",
       "        if (attempts > 100) {\n",
       "          clearInterval(timer);\n",
       "          console.log(\"Bokeh: ERROR: Unable to run BokehJS code because BokehJS library is missing\");\n",
       "        }\n",
       "      }\n",
       "    }, 10, root)\n",
       "  }\n",
       "})(window);</script>"
      ],
      "text/plain": [
       "Tabs\n",
       "    [0] Markdown(str, name='Summary')\n",
       "    [1] DataFrame(name='Variable summary', value=                          ...)\n",
       "    [2] DataFrame(name='head', value=              ...)\n",
       "    [3] DataFrame(name='tail', value=              ...)"
      ]
     },
     "execution_count": 22,
     "metadata": {
      "application/vnd.holoviews_exec.v0+json": {
       "id": "1170"
      }
     },
     "output_type": "execute_result"
    }
   ],
   "source": [
    "# create a sample dataframe with minimal processing\n",
    "\n",
    "housing_df_processed = (\n",
    "  housing_df\n",
    "    \n",
    "    #tweak to test pipeline quickly or profile performance\n",
    "    .sample(frac=1, replace=False)\n",
    "    \n",
    "    # any additional processing/cleaning\n",
    ")\n",
    "\n",
    "# Any verifications on the data\n",
    "from ta_lib.eda.api import get_variable_summary\n",
    "display_as_tabs([\n",
    "    (\"Summary\", f\"Length: {len(housing_df_processed)}, Columns: {len(housing_df_processed.columns)}\"),\n",
    "    (\"Variable summary\", get_variable_summary(housing_df_processed)),\n",
    "    (\"head\", housing_df.head(5).T),\n",
    "    (\"tail\", housing_df.tail(5).T),\n",
    "])"
   ]
  },
  {
   "cell_type": "code",
   "execution_count": 23,
   "metadata": {},
   "outputs": [],
   "source": [
    "save_dataset(context, housing_df_processed, 'processed/housing')"
   ]
  },
  {
   "cell_type": "markdown",
   "metadata": {},
   "source": [
    "# 3. Generate Train, Validation and Test datasets\n",
    "\n"
   ]
  },
  {
   "cell_type": "markdown",
   "metadata": {},
   "source": [
    "- We split the data into train, test (optionally, also a validation dataset)\n",
    "- In this example, we are binning the target into 10 quantiles and then use a Stratified Shuffle to split the data.\n",
    "- See sklearn documentation on the various available splitters\n",
    "- https://scikit-learn.org/stable/modules/classes.html#splitter-classes\n",
    "- This will go into production code (training only)"
   ]
  },
  {
   "cell_type": "code",
   "execution_count": 24,
   "metadata": {},
   "outputs": [],
   "source": [
    "from sklearn.model_selection import StratifiedShuffleSplit\n",
    "from ta_lib.core.api import custom_train_test_split  # helper function to customize splitting\n",
    "from scripts import *\n",
    "\n",
    "splitter = StratifiedShuffleSplit(n_splits=1,test_size=0.2, random_state=42)\n",
    "housing_df_train, housing_df_test = custom_train_test_split(housing_df_processed, splitter, by=binned_selling_price)"
   ]
  },
  {
   "cell_type": "code",
   "execution_count": 25,
   "metadata": {},
   "outputs": [
    {
     "data": {
      "text/html": [
       "<div>\n",
       "<style scoped>\n",
       "    .dataframe tbody tr th:only-of-type {\n",
       "        vertical-align: middle;\n",
       "    }\n",
       "\n",
       "    .dataframe tbody tr th {\n",
       "        vertical-align: top;\n",
       "    }\n",
       "\n",
       "    .dataframe thead th {\n",
       "        text-align: right;\n",
       "    }\n",
       "</style>\n",
       "<table border=\"1\" class=\"dataframe\">\n",
       "  <thead>\n",
       "    <tr style=\"text-align: right;\">\n",
       "      <th></th>\n",
       "      <th>longitude</th>\n",
       "      <th>latitude</th>\n",
       "      <th>housing_median_age</th>\n",
       "      <th>total_rooms</th>\n",
       "      <th>total_bedrooms</th>\n",
       "      <th>population</th>\n",
       "      <th>households</th>\n",
       "      <th>median_income</th>\n",
       "      <th>median_house_value</th>\n",
       "      <th>ocean_proximity</th>\n",
       "      <th>rooms_per_household</th>\n",
       "      <th>bedrooms_per_room</th>\n",
       "      <th>population_per_household</th>\n",
       "    </tr>\n",
       "  </thead>\n",
       "  <tbody>\n",
       "    <tr>\n",
       "      <th>11318</th>\n",
       "      <td>-117.99</td>\n",
       "      <td>33.77</td>\n",
       "      <td>15.0</td>\n",
       "      <td>2081.0</td>\n",
       "      <td>531.0</td>\n",
       "      <td>1617.0</td>\n",
       "      <td>561.0</td>\n",
       "      <td>3.4955</td>\n",
       "      <td>160900.0</td>\n",
       "      <td>&lt;1H OCEAN</td>\n",
       "      <td>3.709447</td>\n",
       "      <td>0.255166</td>\n",
       "      <td>2.882353</td>\n",
       "    </tr>\n",
       "    <tr>\n",
       "      <th>9781</th>\n",
       "      <td>-121.13</td>\n",
       "      <td>36.20</td>\n",
       "      <td>16.0</td>\n",
       "      <td>1868.0</td>\n",
       "      <td>443.0</td>\n",
       "      <td>1323.0</td>\n",
       "      <td>436.0</td>\n",
       "      <td>2.9559</td>\n",
       "      <td>163200.0</td>\n",
       "      <td>&lt;1H OCEAN</td>\n",
       "      <td>4.284404</td>\n",
       "      <td>0.237152</td>\n",
       "      <td>3.034404</td>\n",
       "    </tr>\n",
       "    <tr>\n",
       "      <th>4321</th>\n",
       "      <td>-118.35</td>\n",
       "      <td>34.08</td>\n",
       "      <td>52.0</td>\n",
       "      <td>1003.0</td>\n",
       "      <td>200.0</td>\n",
       "      <td>514.0</td>\n",
       "      <td>204.0</td>\n",
       "      <td>3.8472</td>\n",
       "      <td>395700.0</td>\n",
       "      <td>&lt;1H OCEAN</td>\n",
       "      <td>4.916667</td>\n",
       "      <td>0.199402</td>\n",
       "      <td>2.519608</td>\n",
       "    </tr>\n",
       "    <tr>\n",
       "      <th>7838</th>\n",
       "      <td>-118.17</td>\n",
       "      <td>33.90</td>\n",
       "      <td>12.0</td>\n",
       "      <td>3653.0</td>\n",
       "      <td>993.0</td>\n",
       "      <td>3215.0</td>\n",
       "      <td>854.0</td>\n",
       "      <td>2.8681</td>\n",
       "      <td>114200.0</td>\n",
       "      <td>&lt;1H OCEAN</td>\n",
       "      <td>4.277518</td>\n",
       "      <td>0.271831</td>\n",
       "      <td>3.764637</td>\n",
       "    </tr>\n",
       "    <tr>\n",
       "      <th>14311</th>\n",
       "      <td>-117.14</td>\n",
       "      <td>32.71</td>\n",
       "      <td>39.0</td>\n",
       "      <td>1647.0</td>\n",
       "      <td>478.0</td>\n",
       "      <td>2176.0</td>\n",
       "      <td>479.0</td>\n",
       "      <td>1.7642</td>\n",
       "      <td>82900.0</td>\n",
       "      <td>NEAR OCEAN</td>\n",
       "      <td>3.438413</td>\n",
       "      <td>0.290225</td>\n",
       "      <td>4.542797</td>\n",
       "    </tr>\n",
       "    <tr>\n",
       "      <th>...</th>\n",
       "      <td>...</td>\n",
       "      <td>...</td>\n",
       "      <td>...</td>\n",
       "      <td>...</td>\n",
       "      <td>...</td>\n",
       "      <td>...</td>\n",
       "      <td>...</td>\n",
       "      <td>...</td>\n",
       "      <td>...</td>\n",
       "      <td>...</td>\n",
       "      <td>...</td>\n",
       "      <td>...</td>\n",
       "      <td>...</td>\n",
       "    </tr>\n",
       "    <tr>\n",
       "      <th>15382</th>\n",
       "      <td>-117.14</td>\n",
       "      <td>33.39</td>\n",
       "      <td>17.0</td>\n",
       "      <td>2889.0</td>\n",
       "      <td>587.0</td>\n",
       "      <td>1931.0</td>\n",
       "      <td>510.0</td>\n",
       "      <td>3.8547</td>\n",
       "      <td>208300.0</td>\n",
       "      <td>&lt;1H OCEAN</td>\n",
       "      <td>5.664706</td>\n",
       "      <td>0.203184</td>\n",
       "      <td>3.786275</td>\n",
       "    </tr>\n",
       "    <tr>\n",
       "      <th>4052</th>\n",
       "      <td>-118.43</td>\n",
       "      <td>34.15</td>\n",
       "      <td>42.0</td>\n",
       "      <td>1293.0</td>\n",
       "      <td>214.0</td>\n",
       "      <td>459.0</td>\n",
       "      <td>217.0</td>\n",
       "      <td>7.6720</td>\n",
       "      <td>467600.0</td>\n",
       "      <td>&lt;1H OCEAN</td>\n",
       "      <td>5.958525</td>\n",
       "      <td>0.165507</td>\n",
       "      <td>2.115207</td>\n",
       "    </tr>\n",
       "    <tr>\n",
       "      <th>18505</th>\n",
       "      <td>-121.98</td>\n",
       "      <td>37.14</td>\n",
       "      <td>37.0</td>\n",
       "      <td>74.0</td>\n",
       "      <td>19.0</td>\n",
       "      <td>63.0</td>\n",
       "      <td>17.0</td>\n",
       "      <td>9.5908</td>\n",
       "      <td>350000.0</td>\n",
       "      <td>&lt;1H OCEAN</td>\n",
       "      <td>4.352941</td>\n",
       "      <td>0.256757</td>\n",
       "      <td>3.705882</td>\n",
       "    </tr>\n",
       "    <tr>\n",
       "      <th>17814</th>\n",
       "      <td>-121.82</td>\n",
       "      <td>37.42</td>\n",
       "      <td>13.0</td>\n",
       "      <td>3752.0</td>\n",
       "      <td>572.0</td>\n",
       "      <td>1581.0</td>\n",
       "      <td>526.0</td>\n",
       "      <td>6.1091</td>\n",
       "      <td>329400.0</td>\n",
       "      <td>&lt;1H OCEAN</td>\n",
       "      <td>7.133080</td>\n",
       "      <td>0.152452</td>\n",
       "      <td>3.005703</td>\n",
       "    </tr>\n",
       "    <tr>\n",
       "      <th>18224</th>\n",
       "      <td>-122.09</td>\n",
       "      <td>37.40</td>\n",
       "      <td>36.0</td>\n",
       "      <td>1575.0</td>\n",
       "      <td>379.0</td>\n",
       "      <td>1036.0</td>\n",
       "      <td>382.0</td>\n",
       "      <td>5.1408</td>\n",
       "      <td>264700.0</td>\n",
       "      <td>NEAR BAY</td>\n",
       "      <td>4.123037</td>\n",
       "      <td>0.240635</td>\n",
       "      <td>2.712042</td>\n",
       "    </tr>\n",
       "  </tbody>\n",
       "</table>\n",
       "<p>16512 rows × 13 columns</p>\n",
       "</div>"
      ],
      "text/plain": [
       "       longitude  latitude  housing_median_age  total_rooms  total_bedrooms  \\\n",
       "11318    -117.99     33.77                15.0       2081.0           531.0   \n",
       "9781     -121.13     36.20                16.0       1868.0           443.0   \n",
       "4321     -118.35     34.08                52.0       1003.0           200.0   \n",
       "7838     -118.17     33.90                12.0       3653.0           993.0   \n",
       "14311    -117.14     32.71                39.0       1647.0           478.0   \n",
       "...          ...       ...                 ...          ...             ...   \n",
       "15382    -117.14     33.39                17.0       2889.0           587.0   \n",
       "4052     -118.43     34.15                42.0       1293.0           214.0   \n",
       "18505    -121.98     37.14                37.0         74.0            19.0   \n",
       "17814    -121.82     37.42                13.0       3752.0           572.0   \n",
       "18224    -122.09     37.40                36.0       1575.0           379.0   \n",
       "\n",
       "       population  households  median_income  median_house_value  \\\n",
       "11318      1617.0       561.0         3.4955            160900.0   \n",
       "9781       1323.0       436.0         2.9559            163200.0   \n",
       "4321        514.0       204.0         3.8472            395700.0   \n",
       "7838       3215.0       854.0         2.8681            114200.0   \n",
       "14311      2176.0       479.0         1.7642             82900.0   \n",
       "...           ...         ...            ...                 ...   \n",
       "15382      1931.0       510.0         3.8547            208300.0   \n",
       "4052        459.0       217.0         7.6720            467600.0   \n",
       "18505        63.0        17.0         9.5908            350000.0   \n",
       "17814      1581.0       526.0         6.1091            329400.0   \n",
       "18224      1036.0       382.0         5.1408            264700.0   \n",
       "\n",
       "      ocean_proximity  rooms_per_household  bedrooms_per_room  \\\n",
       "11318       <1H OCEAN             3.709447           0.255166   \n",
       "9781        <1H OCEAN             4.284404           0.237152   \n",
       "4321        <1H OCEAN             4.916667           0.199402   \n",
       "7838        <1H OCEAN             4.277518           0.271831   \n",
       "14311      NEAR OCEAN             3.438413           0.290225   \n",
       "...               ...                  ...                ...   \n",
       "15382       <1H OCEAN             5.664706           0.203184   \n",
       "4052        <1H OCEAN             5.958525           0.165507   \n",
       "18505       <1H OCEAN             4.352941           0.256757   \n",
       "17814       <1H OCEAN             7.133080           0.152452   \n",
       "18224        NEAR BAY             4.123037           0.240635   \n",
       "\n",
       "       population_per_household  \n",
       "11318                  2.882353  \n",
       "9781                   3.034404  \n",
       "4321                   2.519608  \n",
       "7838                   3.764637  \n",
       "14311                  4.542797  \n",
       "...                         ...  \n",
       "15382                  3.786275  \n",
       "4052                   2.115207  \n",
       "18505                  3.705882  \n",
       "17814                  3.005703  \n",
       "18224                  2.712042  \n",
       "\n",
       "[16512 rows x 13 columns]"
      ]
     },
     "execution_count": 25,
     "metadata": {},
     "output_type": "execute_result"
    }
   ],
   "source": [
    "housing_df_train"
   ]
  },
  {
   "cell_type": "code",
   "execution_count": 12,
   "metadata": {},
   "outputs": [],
   "source": [
    "target_col = \"median_house_value\"\n",
    "\n",
    "train_X, train_y = (\n",
    "    housing_df_train\n",
    "    \n",
    "    # split the dataset to train and test\n",
    "    .get_features_targets(target_column_names=target_col)\n",
    ")\n",
    "save_dataset(context, train_X, 'train/housing/features')\n",
    "save_dataset(context, train_y, 'train/housing/target')\n",
    "\n",
    "\n",
    "test_X, test_y = (\n",
    "    housing_df_test\n",
    "    \n",
    "    # split the dataset to train and test\n",
    "    .get_features_targets(target_column_names=target_col)\n",
    ")\n",
    "save_dataset(context, test_X, 'test/housing/features')\n",
    "save_dataset(context, test_y, 'test/housing/target')"
   ]
  },
  {
   "cell_type": "code",
   "execution_count": 13,
   "metadata": {},
   "outputs": [
    {
     "data": {
      "text/plain": [
       "longitude                    0\n",
       "latitude                     0\n",
       "housing_median_age           0\n",
       "total_rooms                  0\n",
       "total_bedrooms              39\n",
       "population                   0\n",
       "households                   0\n",
       "median_income                0\n",
       "ocean_proximity              0\n",
       "rooms_per_household          0\n",
       "bedrooms_per_room           39\n",
       "population_per_household     0\n",
       "dtype: int64"
      ]
     },
     "execution_count": 13,
     "metadata": {},
     "output_type": "execute_result"
    }
   ],
   "source": [
    "test_X.isnull().sum()"
   ]
  },
  {
   "cell_type": "code",
   "execution_count": null,
   "metadata": {},
   "outputs": [],
   "source": []
  }
 ],
 "metadata": {
  "kernelspec": {
   "display_name": "Python 3",
   "language": "python",
   "name": "python3"
  },
  "language_info": {
   "codemirror_mode": {
    "name": "ipython",
    "version": 3
   },
   "file_extension": ".py",
   "mimetype": "text/x-python",
   "name": "python",
   "nbconvert_exporter": "python",
   "pygments_lexer": "ipython3",
   "version": "3.8.8"
  }
 },
 "nbformat": 4,
 "nbformat_minor": 4
}
